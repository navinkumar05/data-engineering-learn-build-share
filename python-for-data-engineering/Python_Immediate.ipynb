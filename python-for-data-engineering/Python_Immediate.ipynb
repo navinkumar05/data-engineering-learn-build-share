{
 "cells": [
  {
   "cell_type": "markdown",
   "id": "f0dbdaf4",
   "metadata": {},
   "source": [
    "## Modules, Packages and Import"
   ]
  },
  {
   "cell_type": "code",
   "execution_count": 6,
   "id": "758462b0",
   "metadata": {},
   "outputs": [
    {
     "name": "stdout",
     "output_type": "stream",
     "text": [
      "1.7320508075688772\n"
     ]
    }
   ],
   "source": [
    "# import the math module\n",
    "import math\n",
    "\n",
    "# use the log10 function in the math module\n",
    "math.pow(2,3)\n",
    "\n",
    "# Compute the square of a 3 assigned to a variable using math module\n",
    "\n",
    "result = math.sqrt(3)\n",
    "print(result)"
   ]
  },
  {
   "cell_type": "markdown",
   "id": "029d60d5",
   "metadata": {},
   "source": [
    "## Comprehension"
   ]
  },
  {
   "cell_type": "code",
   "execution_count": 7,
   "id": "144af4ca",
   "metadata": {},
   "outputs": [
    {
     "data": {
      "text/plain": [
       "['Ravi', 'Pooja', 'Vijay', 'Kiran']"
      ]
     },
     "execution_count": 7,
     "metadata": {},
     "output_type": "execute_result"
    }
   ],
   "source": [
    "names = [\"Ravi\", \"Pooja\", \"Vijay\", \"Kiran\"]\n",
    "names"
   ]
  },
  {
   "cell_type": "code",
   "execution_count": null,
   "id": "4c16b430",
   "metadata": {},
   "outputs": [],
   "source": []
  }
 ],
 "metadata": {
  "kernelspec": {
   "display_name": "Python 3 (ipykernel)",
   "language": "python",
   "name": "python3"
  },
  "language_info": {
   "codemirror_mode": {
    "name": "ipython",
    "version": 3
   },
   "file_extension": ".py",
   "mimetype": "text/x-python",
   "name": "python",
   "nbconvert_exporter": "python",
   "pygments_lexer": "ipython3",
   "version": "3.11.2"
  }
 },
 "nbformat": 4,
 "nbformat_minor": 5
}
