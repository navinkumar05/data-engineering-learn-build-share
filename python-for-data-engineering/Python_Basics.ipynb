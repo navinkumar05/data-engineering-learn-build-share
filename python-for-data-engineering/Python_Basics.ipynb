{
 "cells": [
  {
   "cell_type": "markdown",
   "id": "77f689f4",
   "metadata": {},
   "source": [
    "# Code repository https://github.com/darshilparmar/python-for-data-engineering"
   ]
  },
  {
   "cell_type": "markdown",
   "id": "cb3f19fc",
   "metadata": {},
   "source": [
    "### Working with String"
   ]
  },
  {
   "cell_type": "code",
   "execution_count": 1,
   "id": "44313fd7",
   "metadata": {},
   "outputs": [
    {
     "name": "stdout",
     "output_type": "stream",
     "text": [
      "Hello World!\n"
     ]
    }
   ],
   "source": [
    "print(\"Hello World!\")"
   ]
  },
  {
   "cell_type": "markdown",
   "id": "86a62721",
   "metadata": {},
   "source": [
    "### Working with Numbers"
   ]
  },
  {
   "cell_type": "markdown",
   "id": "b2e8c3a8",
   "metadata": {},
   "source": [
    "### Understanding DataTypes"
   ]
  },
  {
   "cell_type": "code",
   "execution_count": null,
   "id": "9f89f3df",
   "metadata": {},
   "outputs": [],
   "source": []
  }
 ],
 "metadata": {
  "kernelspec": {
   "display_name": "Python 3 (ipykernel)",
   "language": "python",
   "name": "python3"
  },
  "language_info": {
   "codemirror_mode": {
    "name": "ipython",
    "version": 3
   },
   "file_extension": ".py",
   "mimetype": "text/x-python",
   "name": "python",
   "nbconvert_exporter": "python",
   "pygments_lexer": "ipython3",
   "version": "3.11.2"
  }
 },
 "nbformat": 4,
 "nbformat_minor": 5
}
